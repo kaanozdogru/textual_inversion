{
 "cells": [
  {
   "cell_type": "code",
   "execution_count": null,
   "metadata": {},
   "outputs": [],
   "source": [
    "import torch\n",
    "from omegaconf import OmegaConf\n",
    "from torch.utils.data import random_split, DataLoader, Dataset, Subset\n",
    "import time\n",
    "from ldm.util import instantiate_from_config\n",
    "from ldm.data.personalized import  PersonalizedBase\n",
    "from ldm.models.diffusion.ddpm_edit import LatentDiffusion\n",
    "from ldm.util import log_txt_as_img, exists, default, ismap, isimage, mean_flat, count_params, instantiate_from_config\n",
    "import pdb\n",
    "import torchvision\n",
    "import numpy as np \n",
    "from PIL import Image\n",
    "import os\n",
    "import matplotlib.pyplot as plt"
   ]
  },
  {
   "cell_type": "code",
   "execution_count": 1,
   "metadata": {},
   "outputs": [],
   "source": [
    "#@markdown Add here the URLs to the images of the concept you are adding. 3-5 should be fine\n",
    "urls = [\n",
    "      \"https://huggingface.co/datasets/valhalla/images/resolve/main/2.jpeg\",\n",
    "      \"https://huggingface.co/datasets/valhalla/images/resolve/main/3.jpeg\",\n",
    "      \"https://huggingface.co/datasets/valhalla/images/resolve/main/5.jpeg\",\n",
    "      \"https://huggingface.co/datasets/valhalla/images/resolve/main/6.jpeg\",\n",
    "      ## You can add additional images here\n",
    "]"
   ]
  },
  {
   "cell_type": "code",
   "execution_count": 4,
   "metadata": {},
   "outputs": [
    {
     "data": {
      "text/plain": [
       "[None, None, None, None]"
      ]
     },
     "execution_count": 4,
     "metadata": {},
     "output_type": "execute_result"
    }
   ],
   "source": [
    "#@title Download\n",
    "import requests\n",
    "import glob\n",
    "from io import BytesIO\n",
    "from PIL import Image\n",
    "import os\n",
    "\n",
    "def download_image(url):\n",
    "  try:\n",
    "    response = requests.get(url)\n",
    "  except:\n",
    "    return None\n",
    "  return Image.open(BytesIO(response.content)).convert(\"RGB\")\n",
    "\n",
    "images = list(filter(None,[download_image(url) for url in urls]))\n",
    "save_path = \"data/cats\"\n",
    "if not os.path.exists(save_path):\n",
    "  os.mkdir(save_path)\n",
    "[image.save(f\"{save_path}/cat{i+1}.png\") for i, image in enumerate(images)]"
   ]
  },
  {
   "cell_type": "code",
   "execution_count": null,
   "metadata": {},
   "outputs": [],
   "source": []
  }
 ],
 "metadata": {
  "kernelspec": {
   "display_name": "Python 3",
   "language": "python",
   "name": "python3"
  },
  "language_info": {
   "codemirror_mode": {
    "name": "ipython",
    "version": 3
   },
   "file_extension": ".py",
   "mimetype": "text/x-python",
   "name": "python",
   "nbconvert_exporter": "python",
   "pygments_lexer": "ipython3",
   "version": "3.9.6"
  }
 },
 "nbformat": 4,
 "nbformat_minor": 2
}
